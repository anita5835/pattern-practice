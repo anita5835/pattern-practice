{
 "cells": [
  {
   "cell_type": "code",
   "execution_count": 2,
   "id": "3394bda9-be51-4e5e-b24c-be2543b17edf",
   "metadata": {},
   "outputs": [
    {
     "name": "stdout",
     "output_type": "stream",
     "text": [
      "****\n",
      " ****\n",
      "  ****\n",
      "   ****\n"
     ]
    }
   ],
   "source": [
    "n=4\n",
    "for i in range(n):\n",
    "    for k in range(i):\n",
    "        print(\" \",end=\"\")\n",
    "    for j in range(n):\n",
    "        print(\"*\",end=\"\")\n",
    "    print()"
   ]
  },
  {
   "cell_type": "code",
   "execution_count": 3,
   "id": "3c5a58c0-7f4a-4e4f-8c31-28182e6871d5",
   "metadata": {},
   "outputs": [
    {
     "name": "stdout",
     "output_type": "stream",
     "text": [
      "******\n",
      "*    *\n",
      "*    *\n",
      "******\n"
     ]
    }
   ],
   "source": [
    "for i in range(4):\n",
    " for j in range(6):\n",
    "  if i==0 or i==3 or j==0 or j==5:\n",
    "   print(\"*\",end=\"\")\n",
    "  else:\n",
    "    print(\" \",end=\"\")\n",
    " print()"
   ]
  },
  {
   "cell_type": "code",
   "execution_count": 18,
   "id": "b3f95bda-ed4c-4e00-a150-e0b58bc361b9",
   "metadata": {},
   "outputs": [
    {
     "name": "stdout",
     "output_type": "stream",
     "text": [
      "\n",
      "A\n",
      "AB\n",
      "ABC\n",
      "ABCD\n",
      "ABCDE\n"
     ]
    }
   ],
   "source": [
    "n=6\n",
    "for i in range(n):\n",
    "    a=65\n",
    "    for j in range(i):\n",
    "        print(chr(a),end=\"\")\n",
    "        a+=1\n",
    "    print()"
   ]
  },
  {
   "cell_type": "code",
   "execution_count": 22,
   "id": "c0c90a61-583c-4d12-8a78-c9c98fb91acf",
   "metadata": {},
   "outputs": [
    {
     "name": "stdout",
     "output_type": "stream",
     "text": [
      "A\n",
      "BB\n",
      "CCC\n",
      "DDDD\n",
      "EEEEE\n"
     ]
    }
   ],
   "source": [
    "n=5\n",
    "a=65\n",
    "for i in range(n):\n",
    "    for j in range(i+1):\n",
    "        print(chr(a),end=\"\")\n",
    "    a+=1\n",
    "    print()"
   ]
  },
  {
   "cell_type": "code",
   "execution_count": 113,
   "id": "5dc4fe20-621b-4896-91e8-623cb75c5c18",
   "metadata": {},
   "outputs": [
    {
     "name": "stdout",
     "output_type": "stream",
     "text": [
      "E\n",
      "DE\n",
      "CDE\n",
      "BCDE\n",
      "ABCDE\n"
     ]
    }
   ],
   "source": [
    "n=5\n",
    "for i in range(n):\n",
    "    for j in range(i+1):\n",
    "        print(chr(69+j-i),end=\"\")\n",
    "    print()"
   ]
  },
  {
   "cell_type": "code",
   "execution_count": 52,
   "id": "22c68f1a-92de-47a9-b84e-800813c266dc",
   "metadata": {},
   "outputs": [
    {
     "name": "stdout",
     "output_type": "stream",
     "text": [
      "     *\n",
      "    **\n",
      "   ***\n",
      "  ****\n",
      " *****\n"
     ]
    }
   ],
   "source": [
    "n=5\n",
    "for i in range(n):\n",
    "    for k in range(n-i):\n",
    "        print(\" \",end=\"\")\n",
    "    for j in range(i+1):\n",
    "        print(\"*\",end=\"\")\n",
    "    print()"
   ]
  },
  {
   "cell_type": "code",
   "execution_count": 56,
   "id": "5f039025-4b1f-4213-a758-71f752677ebf",
   "metadata": {},
   "outputs": [
    {
     "name": "stdout",
     "output_type": "stream",
     "text": [
      "    1\n",
      "   12\n",
      "  123\n",
      " 1234\n",
      "12345\n"
     ]
    }
   ],
   "source": [
    "n=5\n",
    "for i in range(1,n+1):\n",
    "    for k in range(n-i):\n",
    "        print(\" \",end=\"\")\n",
    "    for j in range(1,i+1):\n",
    "        print(j,end=\"\")\n",
    "    print()"
   ]
  },
  {
   "cell_type": "code",
   "execution_count": 60,
   "id": "35d07821-37b0-4fde-ba58-4f576cd7a1b5",
   "metadata": {},
   "outputs": [
    {
     "name": "stdout",
     "output_type": "stream",
     "text": [
      "12345\n",
      " 1234\n",
      "  123\n",
      "   12\n",
      "    1\n"
     ]
    }
   ],
   "source": [
    "n=5\n",
    "for i in range(n,0,-1):\n",
    "    for k in range(n-i):\n",
    "        print(\" \",end=\"\")\n",
    "    for j in range(1,i+1):\n",
    "        print(j,end=\"\")\n",
    "    print()"
   ]
  },
  {
   "cell_type": "code",
   "execution_count": 65,
   "id": "c76404d9-2d95-4c9e-b90b-8fa39f919067",
   "metadata": {},
   "outputs": [
    {
     "name": "stdout",
     "output_type": "stream",
     "text": [
      "ABCDE\n",
      " ABCD\n",
      "  ABC\n",
      "   AB\n",
      "    A\n"
     ]
    }
   ],
   "source": [
    "n=5\n",
    "for i in range(n,0,-1):\n",
    "    for k in range(n-i):\n",
    "        print(\" \",end=\"\")\n",
    "    a=65\n",
    "    for j in range(1,i+1):\n",
    "        print(chr(a),end=\"\")\n",
    "        a+=1\n",
    "    print()"
   ]
  },
  {
   "cell_type": "code",
   "execution_count": 68,
   "id": "1ed80cfa-1888-4586-a04b-9df340da6a70",
   "metadata": {},
   "outputs": [
    {
     "name": "stdout",
     "output_type": "stream",
     "text": [
      "          * * * * * \n",
      "        * * * * * \n",
      "      * * * * * \n",
      "    * * * * * \n",
      "  * * * * * \n"
     ]
    }
   ],
   "source": [
    "n=5\n",
    "for i in range(n):\n",
    "  for k in range(n-i):\n",
    "   print(\" \",end=\" \")\n",
    "  for j in range(n):\n",
    "   print(\"*\",end=\" \")\n",
    "  print()"
   ]
  },
  {
   "cell_type": "code",
   "execution_count": 70,
   "id": "01afa164-1d2f-4ba8-b2d1-527d89b9f035",
   "metadata": {},
   "outputs": [
    {
     "name": "stdout",
     "output_type": "stream",
     "text": [
      "        1 2 3 4 5 \n",
      "      1 2 3 4 5 \n",
      "    1 2 3 4 5 \n",
      "  1 2 3 4 5 \n",
      "1 2 3 4 5 \n"
     ]
    }
   ],
   "source": [
    "n=5\n",
    "for i in range(1,n+1):\n",
    "  for k in range(n-i):\n",
    "   print(\" \",end=\" \")\n",
    "  for j in range(1,n+1):\n",
    "   print(j,end=\" \")\n",
    "  print()"
   ]
  },
  {
   "cell_type": "code",
   "execution_count": 72,
   "id": "ba9d76df-b7cf-411e-9892-ee3131cde3f8",
   "metadata": {},
   "outputs": [
    {
     "name": "stdout",
     "output_type": "stream",
     "text": [
      "          A B C D E \n",
      "        A B C D E \n",
      "      A B C D E \n",
      "    A B C D E \n",
      "  A B C D E \n"
     ]
    }
   ],
   "source": [
    "n=5\n",
    "for i in range(n):\n",
    "  for k in range(n-i):\n",
    "   print(\" \",end=\" \")\n",
    "  a=65\n",
    "  for j in range(n):\n",
    "   print(chr(a),end=\" \")\n",
    "   a+=1\n",
    "  print()"
   ]
  },
  {
   "cell_type": "code",
   "execution_count": 77,
   "id": "98a4475f-f33b-420b-8a7a-e7dfe7a7ad45",
   "metadata": {},
   "outputs": [
    {
     "name": "stdout",
     "output_type": "stream",
     "text": [
      "   *\n",
      "  ***\n",
      " *****\n",
      "*******\n"
     ]
    }
   ],
   "source": [
    "n=4\n",
    "for i in range(1,n+1):\n",
    "    for k in range(n-i):\n",
    "        print(\" \",end=\"\")\n",
    "    for j in range(1,(2*i-1)+1):\n",
    "        print(\"*\",end=\"\")\n",
    "    print()"
   ]
  },
  {
   "cell_type": "code",
   "execution_count": 85,
   "id": "29cad715-7ae3-4634-8c79-80d5a09c45aa",
   "metadata": {},
   "outputs": [
    {
     "name": "stdout",
     "output_type": "stream",
     "text": [
      "    *    \n",
      "   * *   \n",
      "  *   *  \n",
      " *     * \n",
      "*********\n"
     ]
    }
   ],
   "source": [
    "n=5\n",
    "for i in range(1,n+1):\n",
    "    for j in range(1,2*n):\n",
    "     if i==n or i+j==n+1 or j-i==n-1:\n",
    "      print(\"*\",end=\"\")\n",
    "     else:\n",
    "        print(\" \",end=\"\")\n",
    "    print()"
   ]
  },
  {
   "cell_type": "code",
   "execution_count": 86,
   "id": "8f89eb80-55e3-4456-9510-470a65d343e1",
   "metadata": {},
   "outputs": [
    {
     "name": "stdout",
     "output_type": "stream",
     "text": [
      "*******\n",
      " *****\n",
      "  ***\n",
      "   *\n"
     ]
    }
   ],
   "source": [
    "n=4\n",
    "for i in range(n,0,-1):\n",
    "    for k in range(n-i):\n",
    "        print(\" \",end=\"\")\n",
    "    for j in range(1,(2*i-1)+1):\n",
    "        print(\"*\",end=\"\")\n",
    "    print()"
   ]
  },
  {
   "cell_type": "code",
   "execution_count": 90,
   "id": "c1f3b17a-3d2c-47a2-8d42-8e0fd4f0c66b",
   "metadata": {},
   "outputs": [
    {
     "name": "stdout",
     "output_type": "stream",
     "text": [
      "*\n",
      "**\n",
      "***\n",
      "****\n",
      "***\n",
      "**\n",
      "*\n"
     ]
    }
   ],
   "source": [
    "n=4\n",
    "for i in range(n):\n",
    "    for j in range(i+1):\n",
    "        print(\"*\",end=\"\")\n",
    "    print()\n",
    "for i in range(3,0,-1):\n",
    "    for j in range(1,i+1):\n",
    "     print(\"*\",end=\"\")\n",
    "    print()\n",
    "    "
   ]
  },
  {
   "cell_type": "code",
   "execution_count": 120,
   "id": "47b3bda7-1e45-4daa-93d8-92f39e39da2c",
   "metadata": {},
   "outputs": [
    {
     "name": "stdout",
     "output_type": "stream",
     "text": [
      "   *\n",
      "  **\n",
      " ***\n",
      "****\n",
      " ***\n",
      "  **\n",
      "   *\n"
     ]
    }
   ],
   "source": [
    "n=4\n",
    "for i in range(1,n+1):\n",
    "  for k in range(n-i):\n",
    "      print(\" \",end=\"\")\n",
    "  for j in range(1,i+1):\n",
    "      print(\"*\",end=\"\")\n",
    "  print()\n",
    "n=3\n",
    "for r in range(n,0,-1):\n",
    "    for e in range(4-r):\n",
    "       print(\" \",end=\"\")\n",
    "    for c in range(1,r+1):\n",
    "        print(\"*\",end=\"\")\n",
    "    print()\n",
    "    "
   ]
  },
  {
   "cell_type": "code",
   "execution_count": 162,
   "id": "85115004-ba2c-4035-aacf-9f88a8ac4213",
   "metadata": {},
   "outputs": [
    {
     "name": "stdout",
     "output_type": "stream",
     "text": [
      "    *\n",
      "   ***\n",
      "  *****\n",
      " *******\n",
      "  *****\n",
      "   ***\n",
      "    *\n"
     ]
    }
   ],
   "source": [
    "n=4\n",
    "for i in range(n):\n",
    "  for k in range(n-i):\n",
    "    print(\" \",end=\"\")\n",
    "  for j in range(2*i+1):\n",
    "    print(\"*\",end=\"\")\n",
    "  print()\n",
    "n=4\n",
    "for i in range(n-1, 0,-1):\n",
    "    for k in range(n- i+1 ):\n",
    "        print(\" \", end=\"\")\n",
    "    for j in range(2 * i -1):\n",
    "        print(\"*\", end=\"\")\n",
    "    print()"
   ]
  },
  {
   "cell_type": "code",
   "execution_count": 34,
   "id": "ca8be6c7-1732-4a36-bb0d-f60f2860a521",
   "metadata": {},
   "outputs": [
    {
     "name": "stdout",
     "output_type": "stream",
     "text": [
      "*******\n",
      " *****\n",
      "  ***\n",
      "   *\n"
     ]
    }
   ],
   "source": [
    "n=4\n",
    "for i in range(n,0,-1):\n",
    "    for k in range(n-i):\n",
    "        print(\" \",end=\"\")\n",
    "    for j in range(2*i-1):\n",
    "        print(\"*\",end=\"\")\n",
    "    print()"
   ]
  },
  {
   "cell_type": "code",
   "execution_count": 166,
   "id": "6b93a530-01c2-42d8-9d7e-9a1f796dc1b8",
   "metadata": {},
   "outputs": [
    {
     "name": "stdout",
     "output_type": "stream",
     "text": [
      "1 \n",
      "1 2 \n",
      "1 2 3 \n",
      "1 2 3 4 \n",
      "1 2 3 4 5 \n"
     ]
    }
   ],
   "source": [
    "n=5\n",
    "for i in range(1,n+1):\n",
    "    for j in range(1,i+1):\n",
    "        print(j,end=\" \")\n",
    "    print()"
   ]
  },
  {
   "cell_type": "code",
   "execution_count": 171,
   "id": "4d30cca8-ee54-4209-809a-bde86a8b051f",
   "metadata": {},
   "outputs": [
    {
     "name": "stdout",
     "output_type": "stream",
     "text": [
      "1 2 3 4 5 \n",
      "1 2 3 4 \n",
      "1 2 3 \n",
      "1 2 \n",
      "1 \n"
     ]
    }
   ],
   "source": [
    "n=5\n",
    "for i in range(n,0,-1):\n",
    "    for j in range(1,i+1):\n",
    "        print(j,end=\" \")\n",
    "    print()"
   ]
  },
  {
   "cell_type": "code",
   "execution_count": 202,
   "id": "2eb5eac7-e26a-42b9-959d-ff72916ec75b",
   "metadata": {},
   "outputs": [
    {
     "name": "stdout",
     "output_type": "stream",
     "text": [
      "1 \n",
      "1 2 \n",
      "1   3 \n",
      "1     4 \n",
      "1 2 3 4 5 \n"
     ]
    }
   ],
   "source": [
    "n=5\n",
    "for i in range(1,n+1):\n",
    "    for j in range(1,i+1):\n",
    "     if i==n or i==j:\n",
    "        print(j,end=\" \")\n",
    "     elif j==1:\n",
    "         print(\"1\",end=\" \")\n",
    "     else:\n",
    "         print(\" \",end=\" \")\n",
    "    print()"
   ]
  },
  {
   "cell_type": "code",
   "execution_count": 215,
   "id": "c46bbc38-9a84-44e6-921d-4261f7ce83ad",
   "metadata": {},
   "outputs": [
    {
     "name": "stdout",
     "output_type": "stream",
     "text": [
      "*****1\n",
      "****23\n",
      "***456\n",
      "**78910\n",
      "*1112131415\n"
     ]
    }
   ],
   "source": [
    "n=5\n",
    "num=1\n",
    "for i in range(n):\n",
    "    for k in range(n-i):\n",
    "        print(\"*\",end=\"\")\n",
    "    for j in range(i+1):\n",
    "        print(num,end=\"\")\n",
    "        num+=1\n",
    "    print()"
   ]
  },
  {
   "cell_type": "code",
   "execution_count": 21,
   "id": "86c16c78-3354-46cb-bd2a-bc14d12b5e17",
   "metadata": {},
   "outputs": [
    {
     "name": "stdout",
     "output_type": "stream",
     "text": [
      "    1\n",
      "   1 2\n",
      "  1   3\n",
      " 1     4\n",
      "1       5\n"
     ]
    }
   ],
   "source": [
    "n=5\n",
    "for i in range(1, n + 1):\n",
    "        for j in range(n - i):\n",
    "            print(\" \", end=\"\")\n",
    "        \n",
    "        for k in range(1, 2 * i):\n",
    "            if k == 1:  \n",
    "                print(\"1\", end=\"\")\n",
    "            elif k == 2 * i - 1:  \n",
    "                print(i, end=\"\")\n",
    "            else:  \n",
    "                print(\" \", end=\"\")\n",
    "        print()"
   ]
  },
  {
   "cell_type": "code",
   "execution_count": 57,
   "id": "4b08bf23-87a2-4e60-803b-95fd17d3e934",
   "metadata": {},
   "outputs": [
    {
     "name": "stdout",
     "output_type": "stream",
     "text": [
      "    *\n",
      "   ***\n",
      "  *****\n",
      " *******\n",
      "*********\n",
      " *******\n",
      "  *****\n",
      "   ***\n",
      "    *\n"
     ]
    }
   ],
   "source": [
    "n=5\n",
    "for i in range(n):\n",
    "    for k in range(n-i-1):\n",
    "        print(\" \",end=\"\")\n",
    "    for j in range(2*i+1):\n",
    "        print(\"*\",end=\"\")\n",
    "    print()\n",
    "for r in range(n-1,0,-1):\n",
    "    for d in range(n-r):\n",
    "        print(\" \",end=\"\")\n",
    "    for c in range(2*r-1):\n",
    "        print(\"*\",end=\"\")\n",
    "    print()"
   ]
  },
  {
   "cell_type": "code",
   "execution_count": 81,
   "id": "54c69895-aa00-4831-a851-da1902b78cc8",
   "metadata": {},
   "outputs": [
    {
     "name": "stdout",
     "output_type": "stream",
     "text": [
      "*****\n",
      "*   *\n",
      "*   *\n",
      "*   *\n",
      "*****\n"
     ]
    }
   ],
   "source": [
    "n=5\n",
    "for i in range(n):\n",
    "    for j in range(n):\n",
    "        if i==0 or j==0 or i==n-1 or j==n-1:\n",
    "            print(\"*\",end=\"\")\n",
    "        else:\n",
    "            print(\" \",end=\"\")\n",
    "    print()"
   ]
  },
  {
   "cell_type": "code",
   "execution_count": 89,
   "id": "3364eb4d-db8e-458c-b343-546d97974e74",
   "metadata": {},
   "outputs": [
    {
     "name": "stdout",
     "output_type": "stream",
     "text": [
      "12345\n",
      "1   5\n",
      "1   5\n",
      "1   5\n",
      "12345\n"
     ]
    }
   ],
   "source": [
    "n=5\n",
    "for i in range(1,n+1):\n",
    "    for j in range(1,n+1):\n",
    "        if i==1 or i==n:\n",
    "            print(j,end=\"\")\n",
    "        elif j==1:\n",
    "            print(1,end=\"\")\n",
    "        elif j==n:\n",
    "            print(5,end=\"\")\n",
    "        else:\n",
    "            print(\" \",end=\"\")\n",
    "    print()"
   ]
  },
  {
   "cell_type": "code",
   "execution_count": 98,
   "id": "0e17f3b1-ad43-46c7-8bc6-9f889a17f0a7",
   "metadata": {},
   "outputs": [
    {
     "name": "stdout",
     "output_type": "stream",
     "text": [
      "ABCDE\n",
      "A   E\n",
      "A   E\n",
      "A   E\n",
      "ABCDE\n"
     ]
    }
   ],
   "source": [
    "n=5\n",
    "for i in range(1,n+1):\n",
    "    a=65\n",
    "    for j in range(1,n+1):\n",
    "        if i==1 or i==n:\n",
    "            print(chr(a),end=\"\")\n",
    "            a+=1\n",
    "        elif j==1:\n",
    "            print(chr(65),end=\"\")\n",
    "        elif j==n:\n",
    "            print(chr(69),end=\"\")\n",
    "        else:\n",
    "            print(\" \",end=\"\")\n",
    "    print()"
   ]
  },
  {
   "cell_type": "code",
   "execution_count": 122,
   "id": "2982acfd-6677-4ac6-879e-b56f453be37e",
   "metadata": {},
   "outputs": [
    {
     "name": "stdout",
     "output_type": "stream",
     "text": [
      "*        *\n",
      "**      **\n",
      "***    ***\n",
      "****  ****\n",
      "**********\n",
      "****  ****\n",
      "***    ***\n",
      "**      **\n",
      "*        *\n"
     ]
    }
   ],
   "source": [
    "n=5\n",
    "for i in range(1,n+1):\n",
    "   for j in range(1,i+1):\n",
    "        print(\"*\",end=\"\")\n",
    "   for k in range(2 * (n - i)):\n",
    "            print(\" \", end=\"\")\n",
    "   for j in range(1,i+1):\n",
    "            print(\"*\", end=\"\")\n",
    "   print()\n",
    "for i in range(n-1,0,-1):\n",
    "    for j in range(1,i+1):\n",
    "        print(\"*\",end=\"\")\n",
    "    for a in range(2*(n-i)):\n",
    "        print(\" \",end=\"\")\n",
    "    for b in range(1,i+1):\n",
    "        print(\"*\",end=\"\")\n",
    "    print()\n",
    "    "
   ]
  },
  {
   "cell_type": "code",
   "execution_count": 131,
   "id": "6bcc25b3-a45b-4818-8d85-c20755eb1a06",
   "metadata": {},
   "outputs": [
    {
     "name": "stdout",
     "output_type": "stream",
     "text": [
      "**********\n",
      "****  ****\n",
      "***    ***\n",
      "**      **\n",
      "*        *\n",
      "*        *\n",
      "**      **\n",
      "***    ***\n",
      "****  ****\n",
      "**********\n"
     ]
    }
   ],
   "source": [
    "n=5\n",
    "for i in range(n,0,-1):\n",
    "    for j  in range(1,i+1):\n",
    "        print(\"*\",end=\"\")\n",
    "    for k in range(2*(n-i)):\n",
    "        print(\" \",end=\"\")\n",
    "    for a in range(1,i+1):\n",
    "        print(\"*\",end=\"\")\n",
    "    print()\n",
    "for i in range(1,n+1):\n",
    "   for j in range(1,i+1):\n",
    "        print(\"*\",end=\"\")\n",
    "   for k in range(2 * (n - i)):\n",
    "            print(\" \", end=\"\")\n",
    "   for j in range(1,i+1):\n",
    "            print(\"*\", end=\"\")\n",
    "   print()"
   ]
  },
  {
   "cell_type": "code",
   "execution_count": 166,
   "id": "cc5e4078-c4d3-4f5e-84d9-b81e7f2057be",
   "metadata": {},
   "outputs": [
    {
     "name": "stdout",
     "output_type": "stream",
     "text": [
      "*****\n",
      " ****\n",
      "  ***\n",
      "   **\n",
      "    *\n",
      "   *\n",
      "  **\n",
      " ***\n",
      "****\n"
     ]
    }
   ],
   "source": [
    "n=5\n",
    "for i in range(n,0,-1):\n",
    "    for k in range(n-i):\n",
    "        print(\" \",end=\"\")\n",
    "    for j in range(1,i+1):\n",
    "        print(\"*\",end=\"\")\n",
    "    print()\n",
    "n=4\n",
    "for i in range(1,n+1):\n",
    "    for k in range(n-i):\n",
    "        print(\" \",end=\"\")\n",
    "    for j in range(1,i+1):\n",
    "        print(\"*\",end=\"\")\n",
    "    print()"
   ]
  },
  {
   "cell_type": "code",
   "execution_count": 155,
   "id": "af77c657-d233-4946-88e8-bf56c3df79ff",
   "metadata": {},
   "outputs": [
    {
     "name": "stdout",
     "output_type": "stream",
     "text": [
      "    *\n",
      "   ***\n",
      "  **\n",
      " **\n",
      "*********\n"
     ]
    }
   ],
   "source": [
    "n=5\n",
    "for i in range(1,n+1):\n",
    "    for k in range(n-i):\n",
    "        print(\" \",end=\"\")\n",
    "    for j in range(1,2*i):\n",
    "        if i==n or i==2 or j==1 or i==j:\n",
    "            print(\"*\",end=\"\")\n",
    "    print()"
   ]
  }
 ],
 "metadata": {
  "kernelspec": {
   "display_name": "Python 3 (ipykernel)",
   "language": "python",
   "name": "python3"
  },
  "language_info": {
   "codemirror_mode": {
    "name": "ipython",
    "version": 3
   },
   "file_extension": ".py",
   "mimetype": "text/x-python",
   "name": "python",
   "nbconvert_exporter": "python",
   "pygments_lexer": "ipython3",
   "version": "3.13.0"
  }
 },
 "nbformat": 4,
 "nbformat_minor": 5
}
